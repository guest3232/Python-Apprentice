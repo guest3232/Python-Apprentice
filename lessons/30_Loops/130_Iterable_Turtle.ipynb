{
  "cells": [
    {
      "cell_type": "code",
      "execution_count": 4,
      "metadata": {},
      "outputs": [],
      "source": [
        "\"\"\"\n",
        "Programmable turtle graphics\n",
        "\n",
        "Use what you've learned about lists, loop, cycle, slice and zip to draw a pattern\n",
        "\n",
        "\"\"\"\n",
        "#from itertools import islice\n",
        "import turtle\n",
        "t = turtle.Turtle()                  # Create a turtle named tina\n",
        "t.shape('turtle')                    # Set the shape of the turtle to a turtle\n",
        "t.speed(2)\n",
        "colors = ['red', 'orange', 'yellow', 'green', 'blue', 'black'] # Make a list of colors\n",
        "\n",
        "directions = [ # Create a list of directions and angles\n",
        "    ( 15, 100 ),\n",
        "    ( 25, 50 ),\n",
        "    ( 45, 75 ),\n",
        "    ( 60, 100 ),\n",
        "    ( 5, 25 ),\n",
        "    ( 30, 60 )\n",
        "]\n",
        "\n",
        "# Zip the colors and directions together, then unpack them. There is a good example of this\n",
        "# in 10_More_iterables.ipynb in the discussion of zip()\n",
        "\n",
        "for color, (angle, distance) in zip(colors, directions):\n",
        "    t.color( color )\n",
        "    t.forward( distance )\n",
        "    t.left( angle )\n",
        "\n",
        "# Don't forget the special way to end a turtle program. \n",
        "turtle.exitonclick()"
      ]
    }
  ],
  "metadata": {
    "kernelspec": {
      "display_name": "Python 3",
      "language": "python",
      "name": "python3"
    },
    "language_info": {
      "codemirror_mode": {
        "name": "ipython",
        "version": 3
      },
      "file_extension": ".py",
      "mimetype": "text/x-python",
      "name": "python",
      "nbconvert_exporter": "python",
      "pygments_lexer": "ipython3",
      "version": "3.12.10"
    },
    "syllabus": {
      "uid": "vTyp2WhX"
    }
  },
  "nbformat": 4,
  "nbformat_minor": 2
}
